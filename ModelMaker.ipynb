{
 "cells": [
  {
   "cell_type": "code",
   "execution_count": 1,
   "id": "speaking-scholar",
   "metadata": {},
   "outputs": [],
   "source": [
    "import pandas as pd"
   ]
  },
  {
   "cell_type": "code",
   "execution_count": 2,
   "id": "thermal-tender",
   "metadata": {},
   "outputs": [
    {
     "data": {
      "text/html": [
       "<div>\n",
       "<style scoped>\n",
       "    .dataframe tbody tr th:only-of-type {\n",
       "        vertical-align: middle;\n",
       "    }\n",
       "\n",
       "    .dataframe tbody tr th {\n",
       "        vertical-align: top;\n",
       "    }\n",
       "\n",
       "    .dataframe thead th {\n",
       "        text-align: right;\n",
       "    }\n",
       "</style>\n",
       "<table border=\"1\" class=\"dataframe\">\n",
       "  <thead>\n",
       "    <tr style=\"text-align: right;\">\n",
       "      <th></th>\n",
       "      <th>text</th>\n",
       "      <th>target</th>\n",
       "    </tr>\n",
       "  </thead>\n",
       "  <tbody>\n",
       "    <tr>\n",
       "      <th>22899</th>\n",
       "      <td>kbrn mataram jumlah penduduk miskin di nusa te...</td>\n",
       "      <td>0</td>\n",
       "    </tr>\n",
       "    <tr>\n",
       "      <th>22900</th>\n",
       "      <td>kbrn banda aceh provinsi aceh kembali menjadi ...</td>\n",
       "      <td>0</td>\n",
       "    </tr>\n",
       "    <tr>\n",
       "      <th>22901</th>\n",
       "      <td>jakarta kejaksaan agung telah menetapkan direk...</td>\n",
       "      <td>0</td>\n",
       "    </tr>\n",
       "    <tr>\n",
       "      <th>22902</th>\n",
       "      <td>menteri kelautan dan perikanan sakti wahyu tre...</td>\n",
       "      <td>1</td>\n",
       "    </tr>\n",
       "    <tr>\n",
       "      <th>22903</th>\n",
       "      <td>jakarta pt pegadaian persero yang merupakan ba...</td>\n",
       "      <td>1</td>\n",
       "    </tr>\n",
       "  </tbody>\n",
       "</table>\n",
       "</div>"
      ],
      "text/plain": [
       "                                                    text  target\n",
       "22899  kbrn mataram jumlah penduduk miskin di nusa te...       0\n",
       "22900  kbrn banda aceh provinsi aceh kembali menjadi ...       0\n",
       "22901  jakarta kejaksaan agung telah menetapkan direk...       0\n",
       "22902  menteri kelautan dan perikanan sakti wahyu tre...       1\n",
       "22903  jakarta pt pegadaian persero yang merupakan ba...       1"
      ]
     },
     "execution_count": 2,
     "metadata": {},
     "output_type": "execute_result"
    }
   ],
   "source": [
    "csv = 'clean_data.csv'\n",
    "my_df = pd.read_csv(csv,index_col=0)\n",
    "my_df.tail()"
   ]
  },
  {
   "cell_type": "code",
   "execution_count": 3,
   "id": "developing-thickness",
   "metadata": {},
   "outputs": [],
   "source": [
    "# my_df['Value'] = \"\"\n",
    "\n",
    "# for i, w in enumerate(my_df['Sentiment']):\n",
    "#     if w == 'Positive':\n",
    "#         my_df.at[i, 'Value'] = 1\n",
    "#     else:\n",
    "#         my_df.at[i, 'Value'] = 0"
   ]
  },
  {
   "cell_type": "code",
   "execution_count": 4,
   "id": "saved-reader",
   "metadata": {},
   "outputs": [],
   "source": [
    "# my_df['Value'].value_counts()"
   ]
  },
  {
   "cell_type": "code",
   "execution_count": 5,
   "id": "straight-trinity",
   "metadata": {},
   "outputs": [
    {
     "name": "stdout",
     "output_type": "stream",
     "text": [
      "<class 'pandas.core.frame.DataFrame'>\n",
      "RangeIndex: 22894 entries, 0 to 22893\n",
      "Data columns (total 2 columns):\n",
      " #   Column  Non-Null Count  Dtype \n",
      "---  ------  --------------  ----- \n",
      " 0   text    22894 non-null  object\n",
      " 1   target  22894 non-null  int64 \n",
      "dtypes: int64(1), object(1)\n",
      "memory usage: 357.8+ KB\n"
     ]
    }
   ],
   "source": [
    "my_df.dropna(inplace=True)\n",
    "my_df.reset_index(drop=True,inplace=True)\n",
    "my_df.info()"
   ]
  },
  {
   "cell_type": "code",
   "execution_count": 6,
   "id": "bearing-madness",
   "metadata": {},
   "outputs": [],
   "source": [
    "x = my_df.text\n",
    "y = my_df.target"
   ]
  },
  {
   "cell_type": "code",
   "execution_count": 7,
   "id": "exciting-batman",
   "metadata": {},
   "outputs": [],
   "source": [
    "from sklearn.model_selection import train_test_split\n",
    "SEED = 2000\n",
    "x_train, x_validation_and_test, y_train, y_validation_and_test = train_test_split(x, y, test_size=.2, random_state=SEED, stratify=y)\n",
    "x_validation, x_test, y_validation, y_test = train_test_split(x_validation_and_test, y_validation_and_test, test_size=.5, random_state=SEED, stratify=y_validation_and_test)"
   ]
  },
  {
   "cell_type": "code",
   "execution_count": 8,
   "id": "environmental-writer",
   "metadata": {},
   "outputs": [],
   "source": [
    "# stratify is to eliminate bias"
   ]
  },
  {
   "cell_type": "code",
   "execution_count": 9,
   "id": "reported-container",
   "metadata": {},
   "outputs": [
    {
     "name": "stdout",
     "output_type": "stream",
     "text": [
      "Train set has total 18315 entries with 46.77% negative, 53.23% positive\n",
      "Validation set has total 2289 entries with 46.75% negative, 53.25% positive\n",
      "Test set has total 2290 entries with 46.77% negative, 53.23% positive\n"
     ]
    }
   ],
   "source": [
    "print(\"Train set has total {0} entries with {1:.2f}% negative, {2:.2f}% positive\".format(len(x_train), (len(x_train[y_train == 0]) / (len(x_train)*1.))*100, (len(x_train[y_train == 1]) / (len(x_train)*1.))*100))\n",
    "print (\"Validation set has total {0} entries with {1:.2f}% negative, {2:.2f}% positive\".format(len(x_validation), (len(x_validation[y_validation == 0]) / (len(x_validation)*1.))*100, (len(x_validation[y_validation == 1]) / (len(x_validation)*1.))*100))\n",
    "print(\"Test set has total {0} entries with {1:.2f}% negative, {2:.2f}% positive\".format(len(x_test), (len(x_test[y_test == 0]) / (len(x_test)*1.))*100, (len(x_test[y_test == 1]) / (len(x_test)*1.))*100))"
   ]
  },
  {
   "cell_type": "code",
   "execution_count": 10,
   "id": "acute-packaging",
   "metadata": {},
   "outputs": [],
   "source": [
    "from tqdm import tqdm\n",
    "tqdm.pandas(desc=\"progress-bar\")\n",
    "\n",
    "import gensim\n",
    "from gensim.models.word2vec import Word2Vec\n",
    "from gensim.models.doc2vec import TaggedDocument\n",
    "import multiprocessing\n",
    "from sklearn import utils"
   ]
  },
  {
   "cell_type": "code",
   "execution_count": 11,
   "id": "graphic-kidney",
   "metadata": {},
   "outputs": [],
   "source": [
    "def labelize_tweets_ug(tweets,label):\n",
    "    result = []\n",
    "    prefix = label\n",
    "    for i, t in zip(tweets.index, tweets):\n",
    "        result.append(TaggedDocument(t.split(), [prefix + '_%s' % i]))\n",
    "    return result"
   ]
  },
  {
   "cell_type": "code",
   "execution_count": 12,
   "id": "independent-lexington",
   "metadata": {},
   "outputs": [],
   "source": [
    "all_x = pd.concat([x_train,x_validation,x_test])\n",
    "all_x_w2v = labelize_tweets_ug(all_x, 'all')"
   ]
  },
  {
   "cell_type": "code",
   "execution_count": 13,
   "id": "leading-sullivan",
   "metadata": {},
   "outputs": [],
   "source": [
    "#all_x_w2v"
   ]
  },
  {
   "cell_type": "code",
   "execution_count": 14,
   "id": "induced-democrat",
   "metadata": {},
   "outputs": [
    {
     "name": "stderr",
     "output_type": "stream",
     "text": [
      "100%|███████████████████████████████████████████████████████████████████████| 22894/22894 [00:00<00:00, 2869397.75it/s]\n"
     ]
    }
   ],
   "source": [
    "cores = multiprocessing.cpu_count()\n",
    "model_ug_cbow = Word2Vec(sg=0, vector_size=100, negative=5, window=2, min_count=1, workers=cores, alpha=0.065, min_alpha=0.065, hs=1)\n",
    "model_ug_cbow.build_vocab([x.words for x in tqdm(all_x_w2v)])"
   ]
  },
  {
   "cell_type": "code",
   "execution_count": 15,
   "id": "prescribed-stable",
   "metadata": {},
   "outputs": [
    {
     "name": "stderr",
     "output_type": "stream",
     "text": [
      "100%|███████████████████████████████████████████████████████████████████████| 22894/22894 [00:00<00:00, 2869226.28it/s]\n",
      "100%|███████████████████████████████████████████████████████████████████████| 22894/22894 [00:00<00:00, 3280193.88it/s]\n",
      "100%|███████████████████████████████████████████████████████████████████████| 22894/22894 [00:00<00:00, 2869483.50it/s]\n",
      "100%|███████████████████████████████████████████████████████████████████████| 22894/22894 [00:00<00:00, 3279745.74it/s]\n",
      "100%|███████████████████████████████████████████████████████████████████████| 22894/22894 [00:00<00:00, 2869483.50it/s]\n",
      "100%|███████████████████████████████████████████████████████████████████████| 22894/22894 [00:00<00:00, 2550381.02it/s]\n",
      "100%|███████████████████████████████████████████████████████████████████████| 22894/22894 [00:00<00:00, 3279297.72it/s]\n",
      "100%|███████████████████████████████████████████████████████████████████████| 22894/22894 [00:00<00:00, 3279297.72it/s]\n",
      "100%|███████████████████████████████████████████████████████████████████████| 22894/22894 [00:00<00:00, 2869569.25it/s]\n",
      "100%|███████████████████████████████████████████████████████████████████████| 22894/22894 [00:00<00:00, 3279185.73it/s]\n",
      "100%|███████████████████████████████████████████████████████████████████████| 22894/22894 [00:00<00:00, 2869912.30it/s]\n",
      "100%|███████████████████████████████████████████████████████████████████████| 22894/22894 [00:00<00:00, 2550923.03it/s]\n",
      "100%|███████████████████████████████████████████████████████████████████████| 22894/22894 [00:00<00:00, 2869655.00it/s]\n",
      "100%|███████████████████████████████████████████████████████████████████████| 22894/22894 [00:00<00:00, 3279745.74it/s]\n",
      "100%|███████████████████████████████████████████████████████████████████████| 22894/22894 [00:00<00:00, 2869826.53it/s]\n",
      "100%|███████████████████████████████████████████████████████████████████████| 22894/22894 [00:00<00:00, 3279073.75it/s]\n",
      "100%|███████████████████████████████████████████████████████████████████████| 22894/22894 [00:00<00:00, 3279633.72it/s]\n",
      "100%|███████████████████████████████████████████████████████████████████████| 22894/22894 [00:00<00:00, 3279185.73it/s]\n",
      "100%|███████████████████████████████████████████████████████████████████████| 22894/22894 [00:00<00:00, 3279521.71it/s]\n",
      "100%|███████████████████████████████████████████████████████████████████████| 22894/22894 [00:00<00:00, 2869740.77it/s]\n",
      "100%|███████████████████████████████████████████████████████████████████████| 22894/22894 [00:00<00:00, 3279297.72it/s]\n",
      "100%|███████████████████████████████████████████████████████████████████████| 22894/22894 [00:00<00:00, 3279633.72it/s]\n",
      "100%|███████████████████████████████████████████████████████████████████████| 22894/22894 [00:00<00:00, 2869655.00it/s]\n",
      "100%|███████████████████████████████████████████████████████████████████████| 22894/22894 [00:00<00:00, 2869569.25it/s]\n",
      "100%|███████████████████████████████████████████████████████████████████████| 22894/22894 [00:00<00:00, 2869483.50it/s]\n",
      "100%|███████████████████████████████████████████████████████████████████████| 22894/22894 [00:00<00:00, 3279185.73it/s]\n",
      "100%|███████████████████████████████████████████████████████████████████████| 22894/22894 [00:00<00:00, 2869054.82it/s]\n",
      "100%|███████████████████████████████████████████████████████████████████████| 22894/22894 [00:00<00:00, 3279633.72it/s]\n",
      "100%|███████████████████████████████████████████████████████████████████████| 22894/22894 [00:00<00:00, 3826282.90it/s]\n",
      "100%|███████████████████████████████████████████████████████████████████████| 22894/22894 [00:00<00:00, 3266024.82it/s]\n"
     ]
    },
    {
     "name": "stdout",
     "output_type": "stream",
     "text": [
      "Wall time: 3min 16s\n"
     ]
    }
   ],
   "source": [
    "%%time\n",
    "for epoch in range(30):\n",
    "    model_ug_cbow.train(utils.shuffle([x.words for x in tqdm(all_x_w2v)]), total_examples=len(all_x_w2v), epochs=1)\n",
    "    model_ug_cbow.alpha -= 0.002\n",
    "    model_ug_cbow.min_alpha = model_ug_cbow.alpha"
   ]
  },
  {
   "cell_type": "code",
   "execution_count": 16,
   "id": "polar-granny",
   "metadata": {},
   "outputs": [
    {
     "name": "stderr",
     "output_type": "stream",
     "text": [
      "100%|███████████████████████████████████████████████████████████████████████| 22894/22894 [00:00<00:00, 2550855.27it/s]\n"
     ]
    }
   ],
   "source": [
    "model_ug_sg = Word2Vec(sg=1, vector_size=100, negative=5, window=2, min_count=1, workers=cores, alpha=0.065, min_alpha=0.065, hs=1)\n",
    "model_ug_sg.build_vocab([x.words for x in tqdm(all_x_w2v)])"
   ]
  },
  {
   "cell_type": "code",
   "execution_count": 17,
   "id": "progressive-botswana",
   "metadata": {},
   "outputs": [
    {
     "name": "stderr",
     "output_type": "stream",
     "text": [
      "100%|███████████████████████████████████████████████████████████████████████| 22894/22894 [00:00<00:00, 2295916.12it/s]\n",
      "100%|███████████████████████████████████████████████████████████████████████| 22894/22894 [00:00<00:00, 3279969.80it/s]\n",
      "100%|███████████████████████████████████████████████████████████████████████| 22894/22894 [00:00<00:00, 3266358.11it/s]\n",
      "100%|███████████████████████████████████████████████████████████████████████| 22894/22894 [00:00<00:00, 3278961.78it/s]\n",
      "100%|███████████████████████████████████████████████████████████████████████| 22894/22894 [00:00<00:00, 3262917.39it/s]\n",
      "100%|███████████████████████████████████████████████████████████████████████| 22894/22894 [00:00<00:00, 3279521.71it/s]\n",
      "100%|███████████████████████████████████████████████████████████████████████| 22894/22894 [00:00<00:00, 2858039.04it/s]\n",
      "100%|███████████████████████████████████████████████████████████████████████| 22894/22894 [00:00<00:00, 3279745.74it/s]\n",
      "100%|███████████████████████████████████████████████████████████████████████| 22894/22894 [00:00<00:00, 2869740.77it/s]\n",
      "100%|███████████████████████████████████████████████████████████████████████| 22894/22894 [00:00<00:00, 2869483.50it/s]\n",
      "100%|███████████████████████████████████████████████████████████████████████| 22894/22894 [00:00<00:00, 3279633.72it/s]\n",
      "100%|███████████████████████████████████████████████████████████████████████| 22894/22894 [00:00<00:00, 2869397.75it/s]\n",
      "100%|███████████████████████████████████████████████████████████████████████| 22894/22894 [00:00<00:00, 3279297.72it/s]\n",
      "100%|███████████████████████████████████████████████████████████████████████| 22894/22894 [00:00<00:00, 3279521.71it/s]\n",
      "100%|███████████████████████████████████████████████████████████████████████| 22894/22894 [00:00<00:00, 2869483.50it/s]\n",
      "100%|███████████████████████████████████████████████████████████████████████| 22894/22894 [00:00<00:00, 2881711.66it/s]\n",
      "100%|███████████████████████████████████████████████████████████████████████| 22894/22894 [00:00<00:00, 3281090.54it/s]\n",
      "100%|███████████████████████████████████████████████████████████████████████| 22894/22894 [00:00<00:00, 3279073.75it/s]\n",
      "100%|███████████████████████████████████████████████████████████████████████| 22894/22894 [00:00<00:00, 2550923.03it/s]\n",
      "100%|███████████████████████████████████████████████████████████████████████| 22894/22894 [00:00<00:00, 2869655.00it/s]\n",
      "100%|███████████████████████████████████████████████████████████████████████| 22894/22894 [00:00<00:00, 3279409.71it/s]\n",
      "100%|███████████████████████████████████████████████████████████████████████| 22894/22894 [00:00<00:00, 3279521.71it/s]\n",
      "100%|███████████████████████████████████████████████████████████████████████| 22894/22894 [00:00<00:00, 2869483.50it/s]\n",
      "100%|███████████████████████████████████████████████████████████████████████| 22894/22894 [00:00<00:00, 3278737.86it/s]\n",
      "100%|███████████████████████████████████████████████████████████████████████| 22894/22894 [00:00<00:00, 2869397.75it/s]\n",
      "100%|███████████████████████████████████████████████████████████████████████| 22894/22894 [00:00<00:00, 3278402.04it/s]\n",
      "100%|███████████████████████████████████████████████████████████████████████| 22894/22894 [00:00<00:00, 2869740.77it/s]\n",
      "100%|███████████████████████████████████████████████████████████████████████| 22894/22894 [00:00<00:00, 3279409.71it/s]\n",
      "100%|███████████████████████████████████████████████████████████████████████| 22894/22894 [00:00<00:00, 3279745.74it/s]\n",
      "100%|███████████████████████████████████████████████████████████████████████| 22894/22894 [00:00<00:00, 3279521.71it/s]\n"
     ]
    },
    {
     "name": "stdout",
     "output_type": "stream",
     "text": [
      "Wall time: 5min 56s\n"
     ]
    }
   ],
   "source": [
    "%%time\n",
    "for epoch in range(30):\n",
    "    model_ug_sg.train(utils.shuffle([x.words for x in tqdm(all_x_w2v)]), total_examples=len(all_x_w2v), epochs=1)\n",
    "    model_ug_sg.alpha -= 0.002\n",
    "    model_ug_sg.min_alpha = model_ug_sg.alpha"
   ]
  },
  {
   "cell_type": "code",
   "execution_count": 18,
   "id": "crude-webster",
   "metadata": {},
   "outputs": [],
   "source": [
    "model_ug_cbow.save('w2v_model_ug_cbow.word2vec')\n",
    "model_ug_sg.save('w2v_model_ug_sg.word2vec')"
   ]
  },
  {
   "cell_type": "code",
   "execution_count": 19,
   "id": "floral-decline",
   "metadata": {},
   "outputs": [],
   "source": [
    "from gensim.models import KeyedVectors\n",
    "model_ug_cbow = KeyedVectors.load('w2v_model_ug_cbow.word2vec')\n",
    "model_ug_sg = KeyedVectors.load('w2v_model_ug_sg.word2vec')"
   ]
  },
  {
   "cell_type": "code",
   "execution_count": 20,
   "id": "norwegian-eight",
   "metadata": {},
   "outputs": [
    {
     "data": {
      "text/plain": [
       "134680"
      ]
     },
     "execution_count": 20,
     "metadata": {},
     "output_type": "execute_result"
    }
   ],
   "source": [
    "len(model_ug_cbow.wv.index_to_key)"
   ]
  },
  {
   "cell_type": "code",
   "execution_count": 21,
   "id": "respiratory-charleston",
   "metadata": {},
   "outputs": [
    {
     "name": "stdout",
     "output_type": "stream",
     "text": [
      "Found 134680 word vectors.\n"
     ]
    }
   ],
   "source": [
    "import numpy as np\n",
    "\n",
    "embeddings_index = {}\n",
    "for w in model_ug_cbow.wv.index_to_key:\n",
    "    embeddings_index[w] = np.append(model_ug_cbow.wv[w],model_ug_sg.wv[w])\n",
    "print('Found %s word vectors.' % len(embeddings_index))"
   ]
  },
  {
   "cell_type": "code",
   "execution_count": 22,
   "id": "placed-escape",
   "metadata": {},
   "outputs": [],
   "source": [
    "from keras.preprocessing.text import Tokenizer\n",
    "from keras.preprocessing.sequence import pad_sequences\n",
    "\n",
    "tokenizer = Tokenizer(num_words=200000) # num_words is the number of vocabularies we want to use\n",
    "tokenizer.fit_on_texts(x_train)\n",
    "sequences = tokenizer.texts_to_sequences(x_train)"
   ]
  },
  {
   "cell_type": "code",
   "execution_count": 23,
   "id": "sorted-chase",
   "metadata": {},
   "outputs": [
    {
     "data": {
      "text/plain": [
       "119613"
      ]
     },
     "execution_count": 23,
     "metadata": {},
     "output_type": "execute_result"
    }
   ],
   "source": [
    "len(tokenizer.word_index)"
   ]
  },
  {
   "cell_type": "code",
   "execution_count": 24,
   "id": "black-model",
   "metadata": {},
   "outputs": [
    {
     "name": "stdout",
     "output_type": "stream",
     "text": [
      "viva badan penanggulangan bencana daerah bpbd provinsi jawa barat mencatat kejadian bencana alam sepanjang januari tercatat orang meninggal dunia akibat bencana alam yang didominasi akibat cuaca ekstrim manajer pusdalops bpbd provinsi jawa barat budi away budiman menjelaskan pada bencana alam di awal jawa barat tercatat mengalami sembilan kali kebakaran hunian kali bencana angin puting beliung infografis bencana januari di jawa barat tanah longsor kejadian banjir kejadian gelombang pasang tiga kejadian ungkap budi dalam keterangan persnya senin februari akibat kejadian tersebut lanjut budi sebanyak orang terdampak dan orang meninggal dunia berita terkait polisi usut dugaan pungli bantuan umkm di kabupaten bandung tantri kotak hingga ifan seventeen siap gelar konser peduli negeri ridwan kamil ekonomi jawa barat lebih baik dari banten jateng jatim sungai cipunagara meluap ribuan rumah di subang terendam banjir\n",
      "universitas pertamina bangun ekosistem riset dan inovasi jakarta riset dan inovasi merupakan cara untuk membangkitkan daya saing bangsa penguatan investasi di bidang riset dan pengembangan akan meningkatkan kemampuan indonesia dalam hal inovasi menteri riset dan teknologi republik indonesia bambang brodjonegoro dalam rapat koordinasi nasional ilmu pengetahuan dan teknologi rakernas iptek tahun mengungkapkan dana untuk riset di indonesia hanya mencapai angka dari total pendapatan domestik bruto pdb indonesia angka ini jauh tertinggal dari negara maju seperti amerika serikat tiongkok dan jepang yang mencapai dai total pdb sementara itu menteri pendidikan dan kebudayaan mendikbud re pub lik indonesia nadiem makarim dalam rakernas ke menristek brin tahun mengatakan bahwa indonesia membutuhkan sdm untuk melakukan riset melalui kebijakan kampus merdeka yang digagas nya mendikbud menyatakan kesiapan melahirkan para peneliti dan inovator menurutnya penting untuk membangun ekosistem riset di level perguruan tinggi salah satu caranya dengan melibatkan para mahasiswa untuk berpartisipasi dalam proyek penelitian dalam rangka membangun ekosistem riset di level perguruan tinggi universitas pertamina bersama dengan pt pertamina persero melalui unit kegiatan mahasiswa ukm risetdan karya ilmiah heuri cosmos menyelenggarakan kegiatan scientific paper competition space up kompetisi yang diikuti oleh mahasiswa mahasiswi dari seluruh perguruan tinggi di indonesia ini menghadirkan empat kategori lomba yakni documentary film competition scientific paper competition industrial case competition dan scientific poster com petition tema yang diangkat adalah living with co vid in new normal era proses pengiriman berkas dan seleksi untuk keempat kategori lomba telah dilaksanakan sejak september sementara itu grand final digelar pada tanggal januari secara daring daniel purba svp strategy investment pt pertamina persero dajam talkshow berjudul what should be prepared to live harmony with covid sebagai rangkaian dari acara grand final mengungkapkan perlunya penguatan riset di era transisi selama pandemi menuju pasca pandemi penting bagi perusahaan untuk memodifikasi semua sektor bisnis agar profit perusahaan ndak berada di posisi minus dalam proses penerapan modifikasi tersebut tentu memerlukan penelitian mendalam ujar daniel budiw soetjipto wakil rektor bidang penelitian pengembangan dan kerja sama universitas pertamina mengatakan bahwa kompetisi semacam ini harus terus digalakkan gar mahasiswa terbiasa melakukan riset sehingga mereka menjadi pembela jar sepanjang hayat life long leamer dengan memberikan kesempatan sebesar besarnya kepada mahasiswa untuk terlibat dalam riset inovasi baru akan terus lahir dan berkembang juara pertama dari ke empatkategorilombadiraih oleh universitas indonesia untuk kategori scientific poster compe tition telkom university untuk kategori documentary film competition dengan judul film wave of saviour institut pertanian bogor untuk kategori scientific paper competition dengan judul paper ln silico study hermetia illucens based acute respiratory infection treatment dan institut teknologi bandung untuk kategori industrial case competition gro\n",
      "jakarta antara jaksa penyidik jampidsus kejaksaan agung memeriksa lima orang saksi terkait dengan penyidikan kasus dugaan korupsi pengelolaan keuangan dan dana investasi di badan penyelenggara jaminan sosial bpjs ketenagakerjaan senin lima saksi diperiksa kasus bpjs tk ucap kepala pusat penerangan hukum kejaksaan agung leonard eben ezer simanjuntak dalam keterangan tertulis yang diterima di jakarta selasa lima saksi tersebut masing masing berinisial ms selaku pic pt batavia prosperindo aset manajemen acw selaku direktur pt ashmore asset management ls selaku direktur pt batavia prosperindo aset manajemen pbk selaku direktur pt bni sekuritas dan rm selaku dealer pasar utang bpjs tk pemeriksaan saksi dilakukan guna mencari fakta hukum dan mengumpulkan alat bukti tentang perkara dugaan tindak pidana korupsi pada pengelolaan keuangan dan dana investasi di bpjs tk kata leonard penanganan kasus ini di kejaksaan agung sudah naik status dari penyelidikan ke penyidikan berdasarkan pada surat penyidikan nomor print fd jaksa penyidik telah menggeledah kantor bpjs ketenagakerjaan di jakarta selatan senin kemudian menyita sejumlah data dan dokumen sementara itu pemeriksaan saksi saksi dimulai sejak selasa hingga saat ini belum ada yang ditetapkan sebagai tersangka dalam kasus fathur rochmaneditor arief iskandarcopyright antara\n",
      "jakarta kementerian badan usaha milik negara bumn mendorong bumn untuk menawarkan saham perdana ke publik atau initial public offering ipo hal ini untuk mendorong performa perusahaan dan menjaga good corporate governance gcg sementara itu direktur penilaian perusahaan bei gede nyoman yetna menuturkan aksi ipo ini juga memiliki manfaat bagi banyak pihak baik sisi pemerintah masyarakat dan pasar modal dari sisi perusahaan nyoman menuturkan ipo dapat membantu bumn memperoleh pendanaan berkelanjutan selain itu menciptakan kemandirian perusahan meningkatkan profitabilitas dan memperkuat tata kelola perusahaan jika melihat indeks bumn tercatat ada pertumbuhan persen hingga perdagangan februari sebelumnya idx bumn pernah menguat hingga persen secara year to date pada januari ingin tahu apa saja bumn yang tercatat di bei dan bagaimana kinerja sahamnya sepanjang januari berikut kinerja saham emiten bumn pada januari dikutip dari rti adhi saham adhi turun persen ke posisi per saham transaksi saham rp triliun harga tertinggi dan terendah antm saham antm naik persen ke posisi per saham transaksi saham rp triliun harga tertinggi dan terendah bbri saham bbri naik persen ke posisi per saham transaksi saham rp triliun harga tertinggi dan terendah saham bmri giaa perbesarlayar grafik pergerakan saham di gedung bei jakarta rabu pada pembukaan perdagangan pukul wib ihsg masih naik namun tak lama kemudian ihsg melemah poin atau persen ke level pt bank mandiri tbk bmri saham bmri naik persen ke posisi rp per saham transaksi saham rp triliun harga tertinggi dan terendah bris saham bris naik persen ke posisi per saham transaksi saham rp triliun harga tertinggi dan terendah per saham pt bank negara indonesia tbk bbni saham bbni turun persen ke posisi transaksi saham rp triliun harga tertinggi dan terendah per saham bbtn saham bbtn melemah persen ke posisi per saham transaksi saham rp triliun harga tertinggi dan terendah per saham pt krakatau steel tbk kras saham kras naik persen ke posisi per saham transaksi saham rp triliun harga tertinggi dan terendah per saham pt pp tbk ptpp saham ptpp merosot persen ke posisi per saham transaksi saham rp triliun harga tertinggi dan terendah per saham wskt saham wskt turun persen ke posisi per saham transaksi saham rp triliun harga tertinggi dan terendah per saham wika saham wika susut persen ke posisi rp per saham transaksi saham rp triliun harga tertinggi dan terendah giaa saham giaa tergelincir persen ke posisi transaksi saham rp miliar harga tertinggi dan terendah per saham saham jsmr smbr perbesarkaryawan melihat layar indeks harga saham gabungan ihsg di bursa efek indonesia jakarta jumat sebanyak saham menguat tertekan dan lainnya flat jsmr saham jsmr melemah persen ke posisi per saham transaksi saham rp triliun harga tertinggi dan terendah pgas saham pgas turun persen ke posisi per saham transaksi saham rp triliun harga tertinggi dan terendah per saham tins saham tins naik persen ke posisi per saham transaksi saham rp triliun harga tertinggi dan terendah ptba saham ptba melemah persen ke posisi per saham transaksi saham rp triliun harga tertinggi dan terendah pt telkom indonesia tbk tlkm saham tlkm tergelincir persen ke posisi rp per saham transaksi harian saham rp triliun harga saham tertinggi dan terendah per saham kaef saham kaef susut persen ke posisi rp per saham transaksi harian saham rp triliun harga saham tertinggi dan terendah per saham pt indofarma tbk inaf saham inaf naik persen ke posisi per saham transaksi harian saham rp miliar harga saham tertinggi di dan terendah per saham smgr saham smgr merosot persen ke posisi transaksi harian saham rp triliun harga tertinggi dan terendah smbr saham smbr susut persen ke posisi per saham transaksi harian saham rp miliar harga tertinggi dan terendah per saham saksikan video pilihan di bawah ini menteri badan usaha milik negara bumn erick thohir tengah mengkaji rencana pengurangan jumlah perusahaan milik negara saat ini total perusahaan pelat merah tercatat sekitar perusahaan dan akan dikurangi menjadi perusahaan\n",
      "update ihsg karyawan memotret layar indeks harga saham gabungan ihsg di bursa efek indonesia jakarta jumat ihsg ditutup melemah atau turun basis poin ke level antara reno esnir\n"
     ]
    }
   ],
   "source": [
    "for x in x_train[:5]:\n",
    "    print(x)"
   ]
  },
  {
   "cell_type": "code",
   "execution_count": 25,
   "id": "conservative-march",
   "metadata": {},
   "outputs": [
    {
     "data": {
      "text/plain": [
       "[[1584,\n",
       "  242,\n",
       "  1833,\n",
       "  661,\n",
       "  121,\n",
       "  5099,\n",
       "  328,\n",
       "  208,\n",
       "  324,\n",
       "  578,\n",
       "  1769,\n",
       "  661,\n",
       "  705,\n",
       "  352,\n",
       "  180,\n",
       "  356,\n",
       "  80,\n",
       "  1610,\n",
       "  131,\n",
       "  322,\n",
       "  661,\n",
       "  705,\n",
       "  1,\n",
       "  2107,\n",
       "  322,\n",
       "  1752,\n",
       "  6501,\n",
       "  2413,\n",
       "  32935,\n",
       "  5099,\n",
       "  328,\n",
       "  208,\n",
       "  324,\n",
       "  801,\n",
       "  7975,\n",
       "  4779,\n",
       "  316,\n",
       "  9,\n",
       "  661,\n",
       "  705,\n",
       "  3,\n",
       "  235,\n",
       "  208,\n",
       "  324,\n",
       "  356,\n",
       "  221,\n",
       "  2289,\n",
       "  283,\n",
       "  3956,\n",
       "  1684,\n",
       "  283,\n",
       "  661,\n",
       "  2593,\n",
       "  13006,\n",
       "  12541,\n",
       "  3998,\n",
       "  661,\n",
       "  180,\n",
       "  3,\n",
       "  208,\n",
       "  324,\n",
       "  305,\n",
       "  3217,\n",
       "  1769,\n",
       "  416,\n",
       "  1769,\n",
       "  2220,\n",
       "  3957,\n",
       "  238,\n",
       "  1769,\n",
       "  655,\n",
       "  801,\n",
       "  8,\n",
       "  527,\n",
       "  3891,\n",
       "  260,\n",
       "  133,\n",
       "  322,\n",
       "  1769,\n",
       "  18,\n",
       "  355,\n",
       "  801,\n",
       "  195,\n",
       "  80,\n",
       "  714,\n",
       "  2,\n",
       "  80,\n",
       "  1610,\n",
       "  131,\n",
       "  668,\n",
       "  120,\n",
       "  1049,\n",
       "  11899,\n",
       "  731,\n",
       "  14113,\n",
       "  267,\n",
       "  149,\n",
       "  3,\n",
       "  248,\n",
       "  798,\n",
       "  32936,\n",
       "  6502,\n",
       "  55,\n",
       "  41359,\n",
       "  41360,\n",
       "  542,\n",
       "  1958,\n",
       "  6086,\n",
       "  2083,\n",
       "  161,\n",
       "  1749,\n",
       "  2644,\n",
       "  24,\n",
       "  208,\n",
       "  324,\n",
       "  23,\n",
       "  75,\n",
       "  7,\n",
       "  1507,\n",
       "  2427,\n",
       "  2440,\n",
       "  1063,\n",
       "  36450,\n",
       "  10352,\n",
       "  2198,\n",
       "  98,\n",
       "  3,\n",
       "  3854,\n",
       "  4626,\n",
       "  416]]"
      ]
     },
     "execution_count": 25,
     "metadata": {},
     "output_type": "execute_result"
    }
   ],
   "source": [
    "sequences[:1]"
   ]
  },
  {
   "cell_type": "code",
   "execution_count": 26,
   "id": "adjusted-capital",
   "metadata": {},
   "outputs": [],
   "source": [
    "length = []\n",
    "for x in x_train:\n",
    "    length.append(len(x.split()))"
   ]
  },
  {
   "cell_type": "code",
   "execution_count": 27,
   "id": "hybrid-private",
   "metadata": {},
   "outputs": [
    {
     "data": {
      "text/plain": [
       "4651"
      ]
     },
     "execution_count": 27,
     "metadata": {},
     "output_type": "execute_result"
    }
   ],
   "source": [
    "max(length) # maximum number of words in the sentence"
   ]
  },
  {
   "cell_type": "code",
   "execution_count": 28,
   "id": "israeli-desert",
   "metadata": {},
   "outputs": [],
   "source": [
    "max_len = 4655 # "
   ]
  },
  {
   "cell_type": "code",
   "execution_count": 29,
   "id": "dress-feature",
   "metadata": {},
   "outputs": [
    {
     "name": "stdout",
     "output_type": "stream",
     "text": [
      "Shape of data tensor: (18315, 4655)\n"
     ]
    }
   ],
   "source": [
    "x_train_seq = pad_sequences(sequences, maxlen=max_len)\n",
    "print('Shape of data tensor:', x_train_seq.shape)"
   ]
  },
  {
   "cell_type": "code",
   "execution_count": 30,
   "id": "ordered-suspension",
   "metadata": {},
   "outputs": [
    {
     "data": {
      "text/plain": [
       "array([[    0,     0,     0, ...,  3854,  4626,   416],\n",
       "       [    0,     0,     0, ...,  5350,  8774,  6417],\n",
       "       [    0,     0,     0, ...,  2026, 13007,    86],\n",
       "       [    0,     0,     0, ...,  3617,    17,    50],\n",
       "       [    0,     0,     0, ...,    86,  9687, 23554]])"
      ]
     },
     "execution_count": 30,
     "metadata": {},
     "output_type": "execute_result"
    }
   ],
   "source": [
    "x_train_seq[:5]"
   ]
  },
  {
   "cell_type": "code",
   "execution_count": 31,
   "id": "sonic-auditor",
   "metadata": {},
   "outputs": [],
   "source": [
    "sequences_val = tokenizer.texts_to_sequences(x_validation)\n",
    "x_val_seq = pad_sequences(sequences_val, maxlen=max_len)"
   ]
  },
  {
   "cell_type": "code",
   "execution_count": 32,
   "id": "formal-alcohol",
   "metadata": {},
   "outputs": [],
   "source": [
    "num_words = 200000\n",
    "embedding_matrix = np.zeros((num_words, 200))\n",
    "for word, i in tokenizer.word_index.items():\n",
    "    if i >= num_words:\n",
    "        continue\n",
    "    embedding_vector = embeddings_index.get(word)\n",
    "    if embedding_vector is not None:\n",
    "        embedding_matrix[i] = embedding_vector"
   ]
  },
  {
   "cell_type": "code",
   "execution_count": 33,
   "id": "extreme-basics",
   "metadata": {},
   "outputs": [
    {
     "data": {
      "text/plain": [
       "False"
      ]
     },
     "execution_count": 33,
     "metadata": {},
     "output_type": "execute_result"
    }
   ],
   "source": [
    "np.array_equal(embedding_matrix[29] ,embeddings_index.get('good'))"
   ]
  },
  {
   "cell_type": "code",
   "execution_count": 34,
   "id": "injured-atlanta",
   "metadata": {},
   "outputs": [],
   "source": [
    "seed = 7\n",
    "\n",
    "from keras.models import Sequential\n",
    "from keras.layers import Dense, Dropout\n",
    "from keras.layers import Flatten\n",
    "from keras.layers.embeddings import Embedding"
   ]
  },
  {
   "cell_type": "code",
   "execution_count": 31,
   "id": "close-pacific",
   "metadata": {},
   "outputs": [],
   "source": [
    "#Skip this part next time"
   ]
  },
  {
   "cell_type": "code",
   "execution_count": 32,
   "id": "polar-operations",
   "metadata": {},
   "outputs": [
    {
     "name": "stdout",
     "output_type": "stream",
     "text": [
      "Epoch 1/5\n",
      "702/702 - 654s - loss: 0.4868 - accuracy: 0.7730 - val_loss: 0.3990 - val_accuracy: 0.8079\n",
      "Epoch 2/5\n",
      "702/702 - 658s - loss: 0.1960 - accuracy: 0.9161 - val_loss: 0.4699 - val_accuracy: 0.7817\n",
      "Epoch 3/5\n",
      "702/702 - 666s - loss: 0.0502 - accuracy: 0.9891 - val_loss: 0.6426 - val_accuracy: 0.8035\n",
      "Epoch 4/5\n",
      "702/702 - 655s - loss: 0.0109 - accuracy: 0.9982 - val_loss: 0.7454 - val_accuracy: 0.8079\n",
      "Epoch 5/5\n",
      "702/702 - 654s - loss: 0.0048 - accuracy: 0.9996 - val_loss: 0.8488 - val_accuracy: 0.8079\n"
     ]
    },
    {
     "data": {
      "text/plain": [
       "<keras.callbacks.History at 0x1f9c4949b70>"
      ]
     },
     "execution_count": 32,
     "metadata": {},
     "output_type": "execute_result"
    }
   ],
   "source": [
    "model_ptw2v = Sequential()\n",
    "e = Embedding(num_words, 200, weights=[embedding_matrix], input_length=max_len, trainable=False)\n",
    "model_ptw2v.add(e)\n",
    "model_ptw2v.add(Flatten())\n",
    "model_ptw2v.add(Dense(256, activation='relu'))\n",
    "model_ptw2v.add(Dense(1, activation='sigmoid'))\n",
    "model_ptw2v.compile(loss='binary_crossentropy', optimizer='adam', metrics=['accuracy'])\n",
    "model_ptw2v.fit(x_train_seq, y_train, validation_data=(x_val_seq, y_validation), epochs=5, batch_size=32, verbose=2)"
   ]
  },
  {
   "cell_type": "code",
   "execution_count": 33,
   "id": "governmental-moment",
   "metadata": {},
   "outputs": [
    {
     "name": "stdout",
     "output_type": "stream",
     "text": [
      "Epoch 1/5\n",
      "702/702 - 1183s - loss: 0.8303 - accuracy: 0.7978 - val_loss: 0.3369 - val_accuracy: 0.8559\n",
      "Epoch 2/5\n",
      "702/702 - 1139s - loss: 0.0348 - accuracy: 0.9884 - val_loss: 0.4422 - val_accuracy: 0.8734\n",
      "Epoch 3/5\n",
      "702/702 - 1326s - loss: 0.0053 - accuracy: 0.9991 - val_loss: 0.5226 - val_accuracy: 0.8603\n",
      "Epoch 4/5\n",
      "702/702 - 1160s - loss: 0.0031 - accuracy: 0.9997 - val_loss: 0.4528 - val_accuracy: 0.8734\n",
      "Epoch 5/5\n",
      "702/702 - 1170s - loss: 5.7384e-04 - accuracy: 1.0000 - val_loss: 0.5206 - val_accuracy: 0.8690\n"
     ]
    },
    {
     "data": {
      "text/plain": [
       "<keras.callbacks.History at 0x1f9c26f86a0>"
      ]
     },
     "execution_count": 33,
     "metadata": {},
     "output_type": "execute_result"
    }
   ],
   "source": [
    "model_ptw2v = Sequential()\n",
    "e = Embedding(num_words, 200, input_length=max_len)\n",
    "model_ptw2v.add(e)\n",
    "model_ptw2v.add(Flatten())\n",
    "model_ptw2v.add(Dense(256, activation='relu'))\n",
    "model_ptw2v.add(Dense(1, activation='sigmoid'))\n",
    "model_ptw2v.compile(loss='binary_crossentropy', optimizer='adam', metrics=['accuracy'])\n",
    "model_ptw2v.fit(x_train_seq, y_train, validation_data=(x_val_seq, y_validation), epochs=5, batch_size=32, verbose=2)"
   ]
  },
  {
   "cell_type": "code",
   "execution_count": 34,
   "id": "warming-causing",
   "metadata": {},
   "outputs": [
    {
     "name": "stdout",
     "output_type": "stream",
     "text": [
      "Epoch 1/5\n",
      "702/702 - 1213s - loss: 0.4906 - accuracy: 0.7806 - val_loss: 0.4161 - val_accuracy: 0.8079\n",
      "Epoch 2/5\n",
      "702/702 - 1203s - loss: 0.1534 - accuracy: 0.9429 - val_loss: 0.5229 - val_accuracy: 0.8122\n",
      "Epoch 3/5\n",
      "702/702 - 1003s - loss: 0.0167 - accuracy: 0.9951 - val_loss: 0.5684 - val_accuracy: 0.8341\n",
      "Epoch 4/5\n",
      "702/702 - 949s - loss: 0.0041 - accuracy: 0.9996 - val_loss: 0.6515 - val_accuracy: 0.8384\n",
      "Epoch 5/5\n",
      "702/702 - 949s - loss: 0.0022 - accuracy: 0.9999 - val_loss: 0.6618 - val_accuracy: 0.8341\n"
     ]
    },
    {
     "data": {
      "text/plain": [
       "<keras.callbacks.History at 0x1f9c0f5db38>"
      ]
     },
     "execution_count": 34,
     "metadata": {},
     "output_type": "execute_result"
    }
   ],
   "source": [
    "model_ptw2v = Sequential()\n",
    "e = Embedding(num_words, 200, weights=[embedding_matrix], input_length=max_len, trainable=True)\n",
    "model_ptw2v.add(e)\n",
    "model_ptw2v.add(Flatten())\n",
    "model_ptw2v.add(Dense(256, activation='relu'))\n",
    "model_ptw2v.add(Dense(1, activation='sigmoid'))\n",
    "model_ptw2v.compile(loss='binary_crossentropy', optimizer='adam', metrics=['accuracy'])\n",
    "model_ptw2v.fit(x_train_seq, y_train, validation_data=(x_val_seq, y_validation), epochs=5, batch_size=32, verbose=2)"
   ]
  },
  {
   "cell_type": "code",
   "execution_count": null,
   "id": "devoted-fifty",
   "metadata": {},
   "outputs": [],
   "source": []
  },
  {
   "cell_type": "code",
   "execution_count": 35,
   "id": "bulgarian-escape",
   "metadata": {},
   "outputs": [],
   "source": [
    "from keras.layers import Conv1D, GlobalMaxPooling1D"
   ]
  },
  {
   "cell_type": "code",
   "execution_count": 36,
   "id": "heated-infrared",
   "metadata": {},
   "outputs": [
    {
     "name": "stdout",
     "output_type": "stream",
     "text": [
      "Model: \"sequential\"\n",
      "_________________________________________________________________\n",
      "Layer (type)                 Output Shape              Param #   \n",
      "=================================================================\n",
      "embedding (Embedding)        (None, 4655, 200)         40000000  \n",
      "_________________________________________________________________\n",
      "conv1d (Conv1D)              (None, 4654, 100)         40100     \n",
      "=================================================================\n",
      "Total params: 40,040,100\n",
      "Trainable params: 40,040,100\n",
      "Non-trainable params: 0\n",
      "_________________________________________________________________\n"
     ]
    }
   ],
   "source": [
    "structure_test = Sequential()\n",
    "e = Embedding(num_words, 200, input_length=max_len)\n",
    "structure_test.add(e)\n",
    "structure_test.add(Conv1D(filters=100, kernel_size=2, padding='valid', activation='relu', strides=1))\n",
    "structure_test.summary()"
   ]
  },
  {
   "cell_type": "code",
   "execution_count": 37,
   "id": "opposed-activation",
   "metadata": {},
   "outputs": [
    {
     "name": "stdout",
     "output_type": "stream",
     "text": [
      "Model: \"sequential_1\"\n",
      "_________________________________________________________________\n",
      "Layer (type)                 Output Shape              Param #   \n",
      "=================================================================\n",
      "embedding_1 (Embedding)      (None, 4655, 200)         40000000  \n",
      "_________________________________________________________________\n",
      "conv1d_1 (Conv1D)            (None, 4654, 100)         40100     \n",
      "_________________________________________________________________\n",
      "global_max_pooling1d (Global (None, 100)               0         \n",
      "=================================================================\n",
      "Total params: 40,040,100\n",
      "Trainable params: 40,040,100\n",
      "Non-trainable params: 0\n",
      "_________________________________________________________________\n"
     ]
    }
   ],
   "source": [
    "structure_test = Sequential()\n",
    "e = Embedding(num_words, 200, input_length=max_len)\n",
    "structure_test.add(e)\n",
    "structure_test.add(Conv1D(filters=100, kernel_size=2, padding='valid', activation='relu', strides=1))\n",
    "structure_test.add(GlobalMaxPooling1D())\n",
    "structure_test.summary()"
   ]
  },
  {
   "cell_type": "code",
   "execution_count": 38,
   "id": "national-window",
   "metadata": {},
   "outputs": [
    {
     "name": "stdout",
     "output_type": "stream",
     "text": [
      "Epoch 1/5\n",
      "573/573 - 138s - loss: 0.4966 - accuracy: 0.7458 - val_loss: 0.4115 - val_accuracy: 0.8104\n",
      "Epoch 2/5\n",
      "573/573 - 126s - loss: 0.3492 - accuracy: 0.8434 - val_loss: 0.4446 - val_accuracy: 0.7899\n",
      "Epoch 3/5\n",
      "573/573 - 128s - loss: 0.2728 - accuracy: 0.8835 - val_loss: 0.3982 - val_accuracy: 0.8244\n",
      "Epoch 4/5\n",
      "573/573 - 121s - loss: 0.2161 - accuracy: 0.9099 - val_loss: 0.4273 - val_accuracy: 0.8296\n",
      "Epoch 5/5\n",
      "573/573 - 113s - loss: 0.1490 - accuracy: 0.9406 - val_loss: 0.4964 - val_accuracy: 0.8196\n"
     ]
    },
    {
     "data": {
      "text/plain": [
       "<keras.callbacks.History at 0x1cdafb4a0b8>"
      ]
     },
     "execution_count": 38,
     "metadata": {},
     "output_type": "execute_result"
    }
   ],
   "source": [
    "model_cnn_01 = Sequential()\n",
    "e = Embedding(num_words, 200, weights=[embedding_matrix], input_length=max_len, trainable=False)\n",
    "model_cnn_01.add(e)\n",
    "model_cnn_01.add(Conv1D(filters=100, kernel_size=2, padding='valid', activation='relu', strides=1))\n",
    "model_cnn_01.add(GlobalMaxPooling1D())\n",
    "model_cnn_01.add(Dense(256, activation='relu'))\n",
    "model_cnn_01.add(Dense(1, activation='sigmoid'))\n",
    "model_cnn_01.compile(loss='binary_crossentropy', optimizer='adam', metrics=['accuracy'])\n",
    "model_cnn_01.fit(x_train_seq, y_train, validation_data=(x_val_seq, y_validation), epochs=5, batch_size=32, verbose=2)"
   ]
  },
  {
   "cell_type": "code",
   "execution_count": 39,
   "id": "joint-union",
   "metadata": {},
   "outputs": [
    {
     "name": "stdout",
     "output_type": "stream",
     "text": [
      "Epoch 1/5\n",
      "573/573 - 350s - loss: 0.3980 - accuracy: 0.8115 - val_loss: 0.3445 - val_accuracy: 0.8388\n",
      "Epoch 2/5\n",
      "573/573 - 366s - loss: 0.1959 - accuracy: 0.9190 - val_loss: 0.3629 - val_accuracy: 0.8471\n",
      "Epoch 3/5\n",
      "573/573 - 359s - loss: 0.0671 - accuracy: 0.9775 - val_loss: 0.4371 - val_accuracy: 0.8580\n",
      "Epoch 4/5\n",
      "573/573 - 367s - loss: 0.0376 - accuracy: 0.9895 - val_loss: 0.4900 - val_accuracy: 0.8571\n",
      "Epoch 5/5\n",
      "573/573 - 347s - loss: 0.0224 - accuracy: 0.9945 - val_loss: 0.5500 - val_accuracy: 0.8598\n"
     ]
    },
    {
     "data": {
      "text/plain": [
       "<keras.callbacks.History at 0x1cdb0ac3208>"
      ]
     },
     "execution_count": 39,
     "metadata": {},
     "output_type": "execute_result"
    }
   ],
   "source": [
    "model_cnn_02 = Sequential()\n",
    "e = Embedding(num_words, 200, input_length=max_len)\n",
    "model_cnn_02.add(e)\n",
    "model_cnn_02.add(Conv1D(filters=100, kernel_size=2, padding='valid', activation='relu', strides=1))\n",
    "model_cnn_02.add(GlobalMaxPooling1D())\n",
    "model_cnn_02.add(Dense(256, activation='relu'))\n",
    "model_cnn_02.add(Dense(1, activation='sigmoid'))\n",
    "model_cnn_02.compile(loss='binary_crossentropy', optimizer='adam', metrics=['accuracy'])\n",
    "model_cnn_02.fit(x_train_seq, y_train, validation_data=(x_val_seq, y_validation), epochs=5, batch_size=32, verbose=2)"
   ]
  },
  {
   "cell_type": "code",
   "execution_count": 40,
   "id": "laden-calibration",
   "metadata": {},
   "outputs": [
    {
     "name": "stdout",
     "output_type": "stream",
     "text": [
      "Model: \"model\"\n",
      "__________________________________________________________________________________________________\n",
      "Layer (type)                    Output Shape         Param #     Connected to                     \n",
      "==================================================================================================\n",
      "input_1 (InputLayer)            [(None, 4655)]       0                                            \n",
      "__________________________________________________________________________________________________\n",
      "embedding_4 (Embedding)         (None, 4655, 200)    40000000    input_1[0][0]                    \n",
      "__________________________________________________________________________________________________\n",
      "conv1d_4 (Conv1D)               (None, 4654, 100)    40100       embedding_4[0][0]                \n",
      "__________________________________________________________________________________________________\n",
      "conv1d_5 (Conv1D)               (None, 4653, 100)    60100       embedding_4[0][0]                \n",
      "__________________________________________________________________________________________________\n",
      "conv1d_6 (Conv1D)               (None, 4652, 100)    80100       embedding_4[0][0]                \n",
      "__________________________________________________________________________________________________\n",
      "global_max_pooling1d_3 (GlobalM (None, 100)          0           conv1d_4[0][0]                   \n",
      "__________________________________________________________________________________________________\n",
      "global_max_pooling1d_4 (GlobalM (None, 100)          0           conv1d_5[0][0]                   \n",
      "__________________________________________________________________________________________________\n",
      "global_max_pooling1d_5 (GlobalM (None, 100)          0           conv1d_6[0][0]                   \n",
      "__________________________________________________________________________________________________\n",
      "concatenate (Concatenate)       (None, 300)          0           global_max_pooling1d_3[0][0]     \n",
      "                                                                 global_max_pooling1d_4[0][0]     \n",
      "                                                                 global_max_pooling1d_5[0][0]     \n",
      "__________________________________________________________________________________________________\n",
      "dense_4 (Dense)                 (None, 256)          77056       concatenate[0][0]                \n",
      "__________________________________________________________________________________________________\n",
      "dropout (Dropout)               (None, 256)          0           dense_4[0][0]                    \n",
      "__________________________________________________________________________________________________\n",
      "dense_5 (Dense)                 (None, 1)            257         dropout[0][0]                    \n",
      "__________________________________________________________________________________________________\n",
      "activation (Activation)         (None, 1)            0           dense_5[0][0]                    \n",
      "==================================================================================================\n",
      "Total params: 40,257,613\n",
      "Trainable params: 40,257,613\n",
      "Non-trainable params: 0\n",
      "__________________________________________________________________________________________________\n"
     ]
    }
   ],
   "source": [
    "from keras.layers import Input, Dense, concatenate, Activation\n",
    "from keras.models import Model\n",
    "\n",
    "art_input = Input(shape=(max_len,), dtype='int32')\n",
    "\n",
    "art_encoder = Embedding(num_words, 200, input_length=max_len)(art_input)\n",
    "bigram_branch = Conv1D(filters=100, kernel_size=2, padding='valid', activation='relu', strides=1)(art_encoder)\n",
    "bigram_branch = GlobalMaxPooling1D()(bigram_branch)\n",
    "trigram_branch = Conv1D(filters=100, kernel_size=3, padding='valid', activation='relu', strides=1)(art_encoder)\n",
    "trigram_branch = GlobalMaxPooling1D()(trigram_branch)\n",
    "fourgram_branch = Conv1D(filters=100, kernel_size=4, padding='valid', activation='relu', strides=1)(art_encoder)\n",
    "fourgram_branch = GlobalMaxPooling1D()(fourgram_branch)\n",
    "merged = concatenate([bigram_branch, trigram_branch, fourgram_branch], axis=1)\n",
    "\n",
    "merged = Dense(256, activation='relu')(merged)\n",
    "merged = Dropout(0.2)(merged)\n",
    "merged = Dense(1)(merged)\n",
    "output = Activation('sigmoid')(merged)\n",
    "model_test = Model(inputs=[art_input], outputs=[output])\n",
    "model_test.compile(loss='binary_crossentropy',\n",
    "                  optimizer='adam',\n",
    "                  metrics=['accuracy'])\n",
    "model_test.summary()"
   ]
  },
  {
   "cell_type": "code",
   "execution_count": 41,
   "id": "welcome-stick",
   "metadata": {},
   "outputs": [
    {
     "name": "stdout",
     "output_type": "stream",
     "text": [
      "Epoch 1/5\n",
      "573/573 [==============================] - 712s 1s/step - loss: 0.4848 - accuracy: 0.7412 - val_loss: 0.3379 - val_accuracy: 0.8401\n",
      "\n",
      "Epoch 00001: val_accuracy improved from -inf to 0.84010, saving model to Train_best_weights.01-0.8401.hdf5\n",
      "Epoch 2/5\n",
      "573/573 [==============================] - 713s 1s/step - loss: 0.1644 - accuracy: 0.9384 - val_loss: 0.3008 - val_accuracy: 0.8777\n",
      "\n",
      "Epoch 00002: val_accuracy improved from 0.84010 to 0.87768, saving model to Train_best_weights.02-0.8777.hdf5\n",
      "Epoch 3/5\n",
      "573/573 [==============================] - 753s 1s/step - loss: 0.0535 - accuracy: 0.9851 - val_loss: 0.4138 - val_accuracy: 0.8641\n",
      "\n",
      "Epoch 00003: val_accuracy did not improve from 0.87768\n",
      "Epoch 4/5\n",
      "573/573 [==============================] - 782s 1s/step - loss: 0.0294 - accuracy: 0.9935 - val_loss: 0.4007 - val_accuracy: 0.8737\n",
      "\n",
      "Epoch 00004: val_accuracy did not improve from 0.87768\n",
      "Epoch 5/5\n",
      "573/573 [==============================] - 762s 1s/step - loss: 0.0157 - accuracy: 0.9962 - val_loss: 0.4240 - val_accuracy: 0.8681\n",
      "\n",
      "Epoch 00005: val_accuracy did not improve from 0.87768\n"
     ]
    },
    {
     "data": {
      "text/plain": [
       "<keras.callbacks.History at 0x1cdb9ca08d0>"
      ]
     },
     "execution_count": 41,
     "metadata": {},
     "output_type": "execute_result"
    }
   ],
   "source": [
    "from keras.callbacks import ModelCheckpoint\n",
    "\n",
    "filepath=\"Train_best_weights.{epoch:02d}-{val_accuracy:.4f}.hdf5\"\n",
    "checkpoint = ModelCheckpoint(filepath, monitor='val_accuracy', verbose=1, save_best_only=True, mode='max')\n",
    "\n",
    "model_test.fit(x_train_seq, y_train, batch_size=32, epochs=5,\n",
    "                     validation_data=(x_val_seq, y_validation), callbacks = [checkpoint])"
   ]
  },
  {
   "cell_type": "code",
   "execution_count": 42,
   "id": "differential-proposal",
   "metadata": {},
   "outputs": [],
   "source": [
    "# create checkpoint to test"
   ]
  },
  {
   "cell_type": "code",
   "execution_count": 43,
   "id": "composed-missouri",
   "metadata": {},
   "outputs": [
    {
     "name": "stdout",
     "output_type": "stream",
     "text": [
      "Epoch 1/5\n",
      "573/573 - 322s - loss: 0.4740 - accuracy: 0.7607 - val_loss: 0.3810 - val_accuracy: 0.8239\n",
      "Epoch 2/5\n",
      "573/573 - 320s - loss: 0.2623 - accuracy: 0.8909 - val_loss: 0.3755 - val_accuracy: 0.8261\n",
      "Epoch 3/5\n",
      "573/573 - 321s - loss: 0.1222 - accuracy: 0.9552 - val_loss: 0.4061 - val_accuracy: 0.8405\n",
      "Epoch 4/5\n",
      "573/573 - 321s - loss: 0.0554 - accuracy: 0.9823 - val_loss: 0.4816 - val_accuracy: 0.8488\n",
      "Epoch 5/5\n",
      "573/573 - 320s - loss: 0.0407 - accuracy: 0.9890 - val_loss: 0.6038 - val_accuracy: 0.8327\n"
     ]
    },
    {
     "data": {
      "text/plain": [
       "<keras.callbacks.History at 0x1cdba59a908>"
      ]
     },
     "execution_count": 43,
     "metadata": {},
     "output_type": "execute_result"
    }
   ],
   "source": [
    "model_cnn_03 = Sequential()\n",
    "e = Embedding(num_words, 200, weights=[embedding_matrix], input_length=max_len, trainable=True)\n",
    "model_cnn_03.add(e)\n",
    "model_cnn_03.add(Conv1D(filters=100, kernel_size=2, padding='valid', activation='relu', strides=1))\n",
    "model_cnn_03.add(GlobalMaxPooling1D())\n",
    "model_cnn_03.add(Dense(256, activation='relu'))\n",
    "model_cnn_03.add(Dense(1, activation='sigmoid'))\n",
    "model_cnn_03.compile(loss='binary_crossentropy', optimizer='adam', metrics=['accuracy'])\n",
    "model_cnn_03.fit(x_train_seq, y_train, validation_data=(x_val_seq, y_validation), epochs=5, batch_size=32, verbose=2)"
   ]
  },
  {
   "cell_type": "code",
   "execution_count": 44,
   "id": "amended-blues",
   "metadata": {},
   "outputs": [
    {
     "name": "stdout",
     "output_type": "stream",
     "text": [
      "Model: \"model_1\"\n",
      "__________________________________________________________________________________________________\n",
      "Layer (type)                    Output Shape         Param #     Connected to                     \n",
      "==================================================================================================\n",
      "input_2 (InputLayer)            [(None, 4655)]       0                                            \n",
      "__________________________________________________________________________________________________\n",
      "embedding_6 (Embedding)         (None, 4655, 200)    40000000    input_2[0][0]                    \n",
      "__________________________________________________________________________________________________\n",
      "conv1d_8 (Conv1D)               (None, 4654, 100)    40100       embedding_6[0][0]                \n",
      "__________________________________________________________________________________________________\n",
      "conv1d_9 (Conv1D)               (None, 4653, 100)    60100       embedding_6[0][0]                \n",
      "__________________________________________________________________________________________________\n",
      "conv1d_10 (Conv1D)              (None, 4652, 100)    80100       embedding_6[0][0]                \n",
      "__________________________________________________________________________________________________\n",
      "global_max_pooling1d_7 (GlobalM (None, 100)          0           conv1d_8[0][0]                   \n",
      "__________________________________________________________________________________________________\n",
      "global_max_pooling1d_8 (GlobalM (None, 100)          0           conv1d_9[0][0]                   \n",
      "__________________________________________________________________________________________________\n",
      "global_max_pooling1d_9 (GlobalM (None, 100)          0           conv1d_10[0][0]                  \n",
      "__________________________________________________________________________________________________\n",
      "concatenate_1 (Concatenate)     (None, 300)          0           global_max_pooling1d_7[0][0]     \n",
      "                                                                 global_max_pooling1d_8[0][0]     \n",
      "                                                                 global_max_pooling1d_9[0][0]     \n",
      "__________________________________________________________________________________________________\n",
      "dense_8 (Dense)                 (None, 256)          77056       concatenate_1[0][0]              \n",
      "__________________________________________________________________________________________________\n",
      "dropout_1 (Dropout)             (None, 256)          0           dense_8[0][0]                    \n",
      "__________________________________________________________________________________________________\n",
      "dense_9 (Dense)                 (None, 1)            257         dropout_1[0][0]                  \n",
      "__________________________________________________________________________________________________\n",
      "activation_1 (Activation)       (None, 1)            0           dense_9[0][0]                    \n",
      "==================================================================================================\n",
      "Total params: 40,257,613\n",
      "Trainable params: 40,257,613\n",
      "Non-trainable params: 0\n",
      "__________________________________________________________________________________________________\n"
     ]
    }
   ],
   "source": [
    "from keras.layers import Input, Dense, concatenate, Activation\n",
    "from keras.models import Model\n",
    "\n",
    "tweet_input = Input(shape=(max_len,), dtype='int32')\n",
    "\n",
    "tweet_encoder = Embedding(num_words, 200, weights=[embedding_matrix], input_length=max_len, trainable=True)(tweet_input)\n",
    "bigram_branch = Conv1D(filters=100, kernel_size=2, padding='valid', activation='relu', strides=1)(tweet_encoder)\n",
    "bigram_branch = GlobalMaxPooling1D()(bigram_branch)\n",
    "trigram_branch = Conv1D(filters=100, kernel_size=3, padding='valid', activation='relu', strides=1)(tweet_encoder)\n",
    "trigram_branch = GlobalMaxPooling1D()(trigram_branch)\n",
    "fourgram_branch = Conv1D(filters=100, kernel_size=4, padding='valid', activation='relu', strides=1)(tweet_encoder)\n",
    "fourgram_branch = GlobalMaxPooling1D()(fourgram_branch)\n",
    "merged = concatenate([bigram_branch, trigram_branch, fourgram_branch], axis=1)\n",
    "\n",
    "merged = Dense(256, activation='relu')(merged)\n",
    "merged = Dropout(0.2)(merged)\n",
    "merged = Dense(1)(merged)\n",
    "output = Activation('sigmoid')(merged)\n",
    "model = Model(inputs=[tweet_input], outputs=[output])\n",
    "model.compile(loss='binary_crossentropy',\n",
    "                  optimizer='adam',\n",
    "                  metrics=['accuracy'])\n",
    "model.summary()"
   ]
  },
  {
   "cell_type": "code",
   "execution_count": 45,
   "id": "alike-reflection",
   "metadata": {},
   "outputs": [
    {
     "name": "stdout",
     "output_type": "stream",
     "text": [
      "Epoch 1/5\n",
      "573/573 [==============================] - 708s 1s/step - loss: 0.6707 - accuracy: 0.6715 - val_loss: 0.3616 - val_accuracy: 0.8327\n",
      "\n",
      "Epoch 00001: val_accuracy improved from -inf to 0.83268, saving model to CNN_best_weights.01-0.8327.hdf5\n",
      "Epoch 2/5\n",
      "573/573 [==============================] - 687s 1s/step - loss: 0.2740 - accuracy: 0.8878 - val_loss: 0.3315 - val_accuracy: 0.8506\n",
      "\n",
      "Epoch 00002: val_accuracy improved from 0.83268 to 0.85059, saving model to CNN_best_weights.02-0.8506.hdf5\n",
      "Epoch 3/5\n",
      "573/573 [==============================] - 704s 1s/step - loss: 0.1244 - accuracy: 0.9578 - val_loss: 0.3571 - val_accuracy: 0.8550\n",
      "\n",
      "Epoch 00003: val_accuracy improved from 0.85059 to 0.85496, saving model to CNN_best_weights.03-0.8550.hdf5\n",
      "Epoch 4/5\n",
      "573/573 [==============================] - 705s 1s/step - loss: 0.0607 - accuracy: 0.9802 - val_loss: 0.4334 - val_accuracy: 0.8550\n",
      "\n",
      "Epoch 00004: val_accuracy did not improve from 0.85496\n",
      "Epoch 5/5\n",
      "573/573 [==============================] - 704s 1s/step - loss: 0.0407 - accuracy: 0.9874 - val_loss: 0.4692 - val_accuracy: 0.8532\n",
      "\n",
      "Epoch 00005: val_accuracy did not improve from 0.85496\n"
     ]
    },
    {
     "data": {
      "text/plain": [
       "<keras.callbacks.History at 0x1cdbadcddd8>"
      ]
     },
     "execution_count": 45,
     "metadata": {},
     "output_type": "execute_result"
    }
   ],
   "source": [
    "from keras.callbacks import ModelCheckpoint\n",
    "\n",
    "filepath=\"CNN_best_weights.{epoch:02d}-{val_accuracy:.4f}.hdf5\"\n",
    "checkpoint = ModelCheckpoint(filepath, monitor='val_accuracy', verbose=1, save_best_only=True, mode='max')\n",
    "\n",
    "model.fit(x_train_seq, y_train, batch_size=32, epochs=5,\n",
    "                     validation_data=(x_val_seq, y_validation), callbacks = [checkpoint])"
   ]
  },
  {
   "cell_type": "code",
   "execution_count": 59,
   "id": "parental-bloom",
   "metadata": {},
   "outputs": [
    {
     "name": "stdout",
     "output_type": "stream",
     "text": [
      "72/72 [==============================] - 16s 223ms/step - loss: 0.3571 - accuracy: 0.8550\n"
     ]
    },
    {
     "data": {
      "text/plain": [
       "[0.3570740222930908, 0.8549584746360779]"
      ]
     },
     "execution_count": 59,
     "metadata": {},
     "output_type": "execute_result"
    }
   ],
   "source": [
    "from keras.models import load_model\n",
    "loaded_CNN_model = load_model('CNN_best_weights.03-0.8550.hdf5')\n",
    "loaded_CNN_model.evaluate(x=x_val_seq, y=y_validation)"
   ]
  },
  {
   "cell_type": "code",
   "execution_count": 60,
   "id": "drawn-brave",
   "metadata": {},
   "outputs": [
    {
     "name": "stdout",
     "output_type": "stream",
     "text": [
      "72/72 [==============================] - 17s 234ms/step - loss: 0.3008 - accuracy: 0.8777\n"
     ]
    },
    {
     "data": {
      "text/plain": [
       "[0.30083000659942627, 0.8776758313179016]"
      ]
     },
     "execution_count": 60,
     "metadata": {},
     "output_type": "execute_result"
    }
   ],
   "source": [
    "from keras.models import load_model\n",
    "train_model = load_model('Train_best_weights.02-0.8777.hdf5')\n",
    "train_model.evaluate(x=x_val_seq, y=y_validation)"
   ]
  },
  {
   "cell_type": "code",
   "execution_count": 61,
   "id": "legal-standing",
   "metadata": {},
   "outputs": [
    {
     "data": {
      "text/plain": [
       "TfidfVectorizer(max_features=200000, ngram_range=(1, 3))"
      ]
     },
     "execution_count": 61,
     "metadata": {},
     "output_type": "execute_result"
    }
   ],
   "source": [
    "from sklearn.feature_extraction.text import TfidfVectorizer\n",
    "tvec = TfidfVectorizer(max_features=num_words,ngram_range=(1, 3))\n",
    "tvec.fit(x_train)"
   ]
  },
  {
   "cell_type": "code",
   "execution_count": 62,
   "id": "actual-frost",
   "metadata": {},
   "outputs": [],
   "source": [
    "x_train_tfidf = tvec.transform(x_train)\n",
    "x_test_tfidf = tvec.transform(x_test)"
   ]
  },
  {
   "cell_type": "code",
   "execution_count": 63,
   "id": "spare-permit",
   "metadata": {},
   "outputs": [
    {
     "data": {
      "text/plain": [
       "LogisticRegression(max_iter=1000)"
      ]
     },
     "execution_count": 63,
     "metadata": {},
     "output_type": "execute_result"
    }
   ],
   "source": [
    "import sklearn.linear_model as sk\n",
    "\n",
    "lr_with_tfidf = sk.LogisticRegression(solver='lbfgs', max_iter=1000)\n",
    "lr_with_tfidf.fit(x_train_tfidf,y_train)"
   ]
  },
  {
   "cell_type": "code",
   "execution_count": 64,
   "id": "bronze-humidity",
   "metadata": {},
   "outputs": [
    {
     "data": {
      "text/plain": [
       "0.8231441048034934"
      ]
     },
     "execution_count": 64,
     "metadata": {},
     "output_type": "execute_result"
    }
   ],
   "source": [
    "lr_with_tfidf.score(x_test_tfidf,y_test)"
   ]
  },
  {
   "cell_type": "code",
   "execution_count": 65,
   "id": "increased-denmark",
   "metadata": {},
   "outputs": [],
   "source": [
    "yhat_lr = lr_with_tfidf.predict_proba(x_test_tfidf)"
   ]
  },
  {
   "cell_type": "code",
   "execution_count": 66,
   "id": "driving-password",
   "metadata": {},
   "outputs": [],
   "source": [
    "sequences_test = tokenizer.texts_to_sequences(x_test)\n",
    "x_test_seq = pad_sequences(sequences_test, maxlen=max_len)"
   ]
  },
  {
   "cell_type": "code",
   "execution_count": 67,
   "id": "pending-laptop",
   "metadata": {},
   "outputs": [
    {
     "name": "stdout",
     "output_type": "stream",
     "text": [
      "72/72 [==============================] - 17s 235ms/step - loss: 0.3616 - accuracy: 0.8541\n"
     ]
    },
    {
     "data": {
      "text/plain": [
       "[0.3616117238998413, 0.8541484475135803]"
      ]
     },
     "execution_count": 67,
     "metadata": {},
     "output_type": "execute_result"
    }
   ],
   "source": [
    "loaded_CNN_model.evaluate(x=x_test_seq, y=y_test)"
   ]
  },
  {
   "cell_type": "code",
   "execution_count": 68,
   "id": "downtown-rwanda",
   "metadata": {},
   "outputs": [
    {
     "name": "stdout",
     "output_type": "stream",
     "text": [
      "72/72 [==============================] - 18s 251ms/step - loss: 0.2643 - accuracy: 0.8869\n"
     ]
    },
    {
     "data": {
      "text/plain": [
       "[0.26428934931755066, 0.8868995904922485]"
      ]
     },
     "execution_count": 68,
     "metadata": {},
     "output_type": "execute_result"
    }
   ],
   "source": [
    "train_model.evaluate(x=x_test_seq, y=y_test)"
   ]
  },
  {
   "cell_type": "code",
   "execution_count": 69,
   "id": "distant-essay",
   "metadata": {},
   "outputs": [],
   "source": [
    "yhat_cnn = loaded_CNN_model.predict(x_test_seq)"
   ]
  },
  {
   "cell_type": "code",
   "execution_count": 70,
   "id": "neither-football",
   "metadata": {},
   "outputs": [],
   "source": [
    "yhat_train = train_model.predict(x_test_seq)"
   ]
  },
  {
   "cell_type": "code",
   "execution_count": 71,
   "id": "smart-softball",
   "metadata": {},
   "outputs": [
    {
     "data": {
      "image/png": "[encoded data removed]",
      "text/plain": [
       "<Figure size 576x504 with 1 Axes>"
      ]
     },
     "metadata": {
      "needs_background": "light"
     },
     "output_type": "display_data"
    }
   ],
   "source": [
    "import matplotlib.pyplot as plt\n",
    "from sklearn.metrics import roc_curve, auc\n",
    "\n",
    "fpr, tpr, threshold = roc_curve(y_test, yhat_lr[:,1])\n",
    "roc_auc = auc(fpr, tpr)\n",
    "\n",
    "fpr_cnn, tpr_cnn, threshold = roc_curve(y_test, yhat_cnn)\n",
    "roc_auc_nn = auc(fpr_cnn, tpr_cnn)\n",
    "\n",
    "fpr_train, tpr_train, threshold = roc_curve(y_test, yhat_train)\n",
    "roc_auc_train = auc(fpr_train, tpr_train)\n",
    "\n",
    "plt.figure(figsize=(8,7))\n",
    "plt.plot(fpr, tpr, label='tfidf-logit (area = %0.3f)' % roc_auc, linewidth=2)\n",
    "plt.plot(fpr_cnn, tpr_cnn, label='w2v-CNN (area = %0.3f)' % roc_auc_nn, linewidth=2)\n",
    "plt.plot(fpr_train, tpr_train, label='train_2-CNN (area = %0.3f)' % roc_auc_train, linewidth=2)\n",
    "\n",
    "plt.plot([0, 1], [0, 1], 'k--', linewidth=2)\n",
    "plt.xlim([-0.05, 1.0])\n",
    "plt.ylim([-0.05, 1.05])\n",
    "plt.xlabel('False Positive Rate', fontsize=18)\n",
    "plt.ylabel('True Positive Rate', fontsize=18)\n",
    "plt.title('Receiver operating characteristic: is positive', fontsize=18)\n",
    "plt.legend(loc=\"lower right\")\n",
    "plt.show()"
   ]
  }
 ],
 "metadata": {
  "kernelspec": {
   "display_name": "Python 3",
   "language": "python",
   "name": "python3"
  },
  "language_info": {
   "codemirror_mode": {
    "name": "ipython",
    "version": 3
   },
   "file_extension": ".py",
   "mimetype": "text/x-python",
   "name": "python",
   "nbconvert_exporter": "python",
   "pygments_lexer": "ipython3",
   "version": "3.6.8"
  }
 },
 "nbformat": 4,
 "nbformat_minor": 5
}
